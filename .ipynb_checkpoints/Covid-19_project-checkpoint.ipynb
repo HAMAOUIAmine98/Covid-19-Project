{
 "cells": [
  {
   "cell_type": "code",
   "execution_count": 1,
   "metadata": {
    "colab": {
     "base_uri": "https://localhost:8080/"
    },
    "executionInfo": {
     "elapsed": 4542,
     "status": "ok",
     "timestamp": 1604862650530,
     "user": {
      "displayName": "amine Hamaoui",
      "photoUrl": "https://lh3.googleusercontent.com/a-/AOh14GjnGd2NFydSYtUtop3u3ZL437mKSeU25fe7Vz5lYg=s64",
      "userId": "05907889469986217306"
     },
     "user_tz": -60
    },
    "id": "X1NXP7sll-kN",
    "outputId": "47a0fc28-7c01-412b-f65f-198fa46511d5"
   },
   "outputs": [
    {
     "name": "stdout",
     "output_type": "stream",
     "text": [
      "Requirement already satisfied: requests in c:\\programdata\\anaconda3\\lib\\site-packages (2.22.0)\n",
      "Requirement already satisfied: urllib3!=1.25.0,!=1.25.1,<1.26,>=1.21.1 in c:\\programdata\\anaconda3\\lib\\site-packages (from requests) (1.24.2)\n",
      "Requirement already satisfied: certifi>=2017.4.17 in c:\\programdata\\anaconda3\\lib\\site-packages (from requests) (2019.6.16)\n",
      "Requirement already satisfied: idna<2.9,>=2.5 in c:\\programdata\\anaconda3\\lib\\site-packages (from requests) (2.8)\n",
      "Requirement already satisfied: chardet<3.1.0,>=3.0.2 in c:\\programdata\\anaconda3\\lib\\site-packages (from requests) (3.0.4)\n",
      "Note: you may need to restart the kernel to use updated packages.\n"
     ]
    }
   ],
   "source": [
    "pip install requests"
   ]
  },
  {
   "cell_type": "code",
   "execution_count": 2,
   "metadata": {
    "executionInfo": {
     "elapsed": 4539,
     "status": "ok",
     "timestamp": 1604862650532,
     "user": {
      "displayName": "amine Hamaoui",
      "photoUrl": "https://lh3.googleusercontent.com/a-/AOh14GjnGd2NFydSYtUtop3u3ZL437mKSeU25fe7Vz5lYg=s64",
      "userId": "05907889469986217306"
     },
     "user_tz": -60
    },
    "id": "9Gzdn8mbrvsh"
   },
   "outputs": [],
   "source": [
    "import requests"
   ]
  },
  {
   "cell_type": "code",
   "execution_count": 3,
   "metadata": {
    "colab": {
     "base_uri": "https://localhost:8080/"
    },
    "executionInfo": {
     "elapsed": 6074,
     "status": "ok",
     "timestamp": 1604862652109,
     "user": {
      "displayName": "amine Hamaoui",
      "photoUrl": "https://lh3.googleusercontent.com/a-/AOh14GjnGd2NFydSYtUtop3u3ZL437mKSeU25fe7Vz5lYg=s64",
      "userId": "05907889469986217306"
     },
     "user_tz": -60
    },
    "id": "PhiLdHdXsP-2",
    "outputId": "4fa509ae-d9b6-4014-a6a9-4f4165392c8b"
   },
   "outputs": [
    {
     "data": {
      "text/plain": [
       "200"
      ]
     },
     "execution_count": 3,
     "metadata": {},
     "output_type": "execute_result"
    }
   ],
   "source": [
    "url = \"https://www.worldometers.info/coronavirus/?fbclid=IwAR1iQSLlMLmzQoI1I4pz2OC1XvirtfrCuK2VcG-m8nD5GIhv9K3wvHMd35o\"\n",
    "r = requests.get(url)\n",
    "r.status_code"
   ]
  },
  {
   "cell_type": "code",
   "execution_count": 4,
   "metadata": {
    "executionInfo": {
     "elapsed": 7123,
     "status": "ok",
     "timestamp": 1604862653160,
     "user": {
      "displayName": "amine Hamaoui",
      "photoUrl": "https://lh3.googleusercontent.com/a-/AOh14GjnGd2NFydSYtUtop3u3ZL437mKSeU25fe7Vz5lYg=s64",
      "userId": "05907889469986217306"
     },
     "user_tz": -60
    },
    "id": "WcVbuw94sUTS"
   },
   "outputs": [],
   "source": [
    "from bs4 import BeautifulSoup\n",
    "soup = BeautifulSoup(r.content,'html.parser')\n"
   ]
  },
  {
   "cell_type": "code",
   "execution_count": 5,
   "metadata": {
    "colab": {
     "base_uri": "https://localhost:8080/"
    },
    "executionInfo": {
     "elapsed": 7114,
     "status": "ok",
     "timestamp": 1604862653162,
     "user": {
      "displayName": "amine Hamaoui",
      "photoUrl": "https://lh3.googleusercontent.com/a-/AOh14GjnGd2NFydSYtUtop3u3ZL437mKSeU25fe7Vz5lYg=s64",
      "userId": "05907889469986217306"
     },
     "user_tz": -60
    },
    "id": "HvkhaEFkuSVB",
    "outputId": "d317a6b1-1049-45f7-93c8-d7f3a6671d81"
   },
   "outputs": [
    {
     "name": "stdout",
     "output_type": "stream",
     "text": [
      "19\n"
     ]
    }
   ],
   "source": [
    "headers =['#','Country','Total Cases','New Cases','Total Deaths','New Deaths','Total Recovered','New Recovered','Active Cases','Serious,Critical','Tot cases/1M pop','Deaths/1M pop','Total Tests','Test/1M pop','Population','Region','1 Case every X ppl','1 Death every X ppl','1 Test every X ppl']\n",
    "print(len(headers))\n"
   ]
  },
  {
   "cell_type": "code",
   "execution_count": null,
   "metadata": {
    "executionInfo": {
     "elapsed": 9223,
     "status": "ok",
     "timestamp": 1604862655274,
     "user": {
      "displayName": "amine Hamaoui",
      "photoUrl": "https://lh3.googleusercontent.com/a-/AOh14GjnGd2NFydSYtUtop3u3ZL437mKSeU25fe7Vz5lYg=s64",
      "userId": "05907889469986217306"
     },
     "user_tz": -60
    },
    "id": "SroXihzvuZYL"
   },
   "outputs": [],
   "source": [
    "import pandas as pd\n",
    "import numpy as np\n",
    "\n",
    "r = requests.get('https://www.worldometers.info/coronavirus/#countries')\n",
    "\n",
    "soup = BeautifulSoup(r.text, \"html.parser\")\n",
    "\n",
    "covid_dic = []\n",
    "\n",
    "table_body=soup.find('tbody')\n",
    "rows = table_body.find_all('tr')\n",
    "ind = 0\n",
    "for row in rows:\n",
    "\tif ind < 8:\n",
    "\t\tind += 1\n",
    "\t\tcontinue\n",
    "\tcols=row.find_all('td')\n",
    "\tcols=[x.text.strip() for x in cols]\n",
    "\tcovid_dic.append(cols)"
   ]
  },
  {
   "cell_type": "code",
   "execution_count": null,
   "metadata": {
    "executionInfo": {
     "elapsed": 9233,
     "status": "ok",
     "timestamp": 1604862655286,
     "user": {
      "displayName": "amine Hamaoui",
      "photoUrl": "https://lh3.googleusercontent.com/a-/AOh14GjnGd2NFydSYtUtop3u3ZL437mKSeU25fe7Vz5lYg=s64",
      "userId": "05907889469986217306"
     },
     "user_tz": -60
    },
    "id": "HZhe9KI3Dph9"
   },
   "outputs": [],
   "source": [
    "df_covid = pd.DataFrame(covid_dic,columns=headers)\n",
    "# df_covid.rename(columns=headers,inplace=True)"
   ]
  },
  {
   "cell_type": "code",
   "execution_count": null,
   "metadata": {
    "colab": {
     "base_uri": "https://localhost:8080/",
     "height": 558
    },
    "executionInfo": {
     "elapsed": 9222,
     "status": "ok",
     "timestamp": 1604862655287,
     "user": {
      "displayName": "amine Hamaoui",
      "photoUrl": "https://lh3.googleusercontent.com/a-/AOh14GjnGd2NFydSYtUtop3u3ZL437mKSeU25fe7Vz5lYg=s64",
      "userId": "05907889469986217306"
     },
     "user_tz": -60
    },
    "id": "uaERIR6YEdsK",
    "outputId": "74c4ddae-9c11-4a12-ac41-8a1ec424231b"
   },
   "outputs": [],
   "source": [
    "df_covid.tail(300)"
   ]
  },
  {
   "cell_type": "code",
   "execution_count": null,
   "metadata": {
    "executionInfo": {
     "elapsed": 9217,
     "status": "ok",
     "timestamp": 1604862655289,
     "user": {
      "displayName": "amine Hamaoui",
      "photoUrl": "https://lh3.googleusercontent.com/a-/AOh14GjnGd2NFydSYtUtop3u3ZL437mKSeU25fe7Vz5lYg=s64",
      "userId": "05907889469986217306"
     },
     "user_tz": -60
    },
    "id": "2AItBPYnEf_n"
   },
   "outputs": [],
   "source": [
    "df_covid.set_index(\"#\",inplace=True)"
   ]
  },
  {
   "cell_type": "code",
   "execution_count": null,
   "metadata": {
    "colab": {
     "base_uri": "https://localhost:8080/"
    },
    "executionInfo": {
     "elapsed": 6819,
     "status": "ok",
     "timestamp": 1604862655290,
     "user": {
      "displayName": "amine Hamaoui",
      "photoUrl": "https://lh3.googleusercontent.com/a-/AOh14GjnGd2NFydSYtUtop3u3ZL437mKSeU25fe7Vz5lYg=s64",
      "userId": "05907889469986217306"
     },
     "user_tz": -60
    },
    "id": "NZ8Xn7BiE-0e",
    "outputId": "f82f0caa-9fe3-4f6b-a8e8-2c41b42c8f1b"
   },
   "outputs": [],
   "source": [
    "df_covid.info()"
   ]
  },
  {
   "cell_type": "code",
   "execution_count": null,
   "metadata": {
    "colab": {
     "base_uri": "https://localhost:8080/",
     "height": 244
    },
    "executionInfo": {
     "elapsed": 5999,
     "status": "ok",
     "timestamp": 1604862655291,
     "user": {
      "displayName": "amine Hamaoui",
      "photoUrl": "https://lh3.googleusercontent.com/a-/AOh14GjnGd2NFydSYtUtop3u3ZL437mKSeU25fe7Vz5lYg=s64",
      "userId": "05907889469986217306"
     },
     "user_tz": -60
    },
    "id": "KlqX1v3zFjW8",
    "outputId": "43139713-1d5e-42a5-b13b-c73a595dbe2a"
   },
   "outputs": [],
   "source": [
    "df_covid.describe()"
   ]
  },
  {
   "cell_type": "code",
   "execution_count": null,
   "metadata": {
    "colab": {
     "base_uri": "https://localhost:8080/",
     "height": 589
    },
    "executionInfo": {
     "elapsed": 5434,
     "status": "ok",
     "timestamp": 1604862655293,
     "user": {
      "displayName": "amine Hamaoui",
      "photoUrl": "https://lh3.googleusercontent.com/a-/AOh14GjnGd2NFydSYtUtop3u3ZL437mKSeU25fe7Vz5lYg=s64",
      "userId": "05907889469986217306"
     },
     "user_tz": -60
    },
    "id": "9jEsXDQDRKju",
    "outputId": "09ceb00b-c10d-467d-c869-f848cad0612f"
   },
   "outputs": [],
   "source": [
    "for i in ['Total Cases','New Cases','Total Deaths','New Deaths','Total Recovered','New Recovered','Active Cases','Serious,Critical','Tot cases/1M pop','Deaths/1M pop','Total Tests','Test/1M pop','Population','1 Case every X ppl','1 Death every X ppl','1 Test every X ppl']:\n",
    "  df_covid[i]= df_covid[i].map(lambda x : x.replace(',',''))\n",
    "\n",
    "df_covid"
   ]
  },
  {
   "cell_type": "code",
   "execution_count": null,
   "metadata": {
    "colab": {
     "base_uri": "https://localhost:8080/"
    },
    "executionInfo": {
     "elapsed": 4111,
     "status": "ok",
     "timestamp": 1604862655295,
     "user": {
      "displayName": "amine Hamaoui",
      "photoUrl": "https://lh3.googleusercontent.com/a-/AOh14GjnGd2NFydSYtUtop3u3ZL437mKSeU25fe7Vz5lYg=s64",
      "userId": "05907889469986217306"
     },
     "user_tz": -60
    },
    "id": "AP-wtZNG7nQF",
    "outputId": "2ad35858-14fe-4510-b8af-d02e4c6b767c"
   },
   "outputs": [],
   "source": [
    "df_covid.info()"
   ]
  },
  {
   "cell_type": "code",
   "execution_count": 14,
   "metadata": {
    "colab": {
     "base_uri": "https://localhost:8080/"
    },
    "executionInfo": {
     "elapsed": 33728,
     "status": "ok",
     "timestamp": 1604862688882,
     "user": {
      "displayName": "amine Hamaoui",
      "photoUrl": "https://lh3.googleusercontent.com/a-/AOh14GjnGd2NFydSYtUtop3u3ZL437mKSeU25fe7Vz5lYg=s64",
      "userId": "05907889469986217306"
     },
     "user_tz": -60
    },
    "id": "yk5keAQt2r5v",
    "outputId": "723185bc-72cc-4617-84bf-f971b0c39182"
   },
   "outputs": [
    {
     "name": "stdout",
     "output_type": "stream",
     "text": [
      "Mounted at drive\n"
     ]
    }
   ],
   "source": []
  },
  {
   "cell_type": "code",
   "execution_count": 15,
   "metadata": {
    "colab": {
     "base_uri": "https://localhost:8080/"
    },
    "executionInfo": {
     "elapsed": 1094,
     "status": "ok",
     "timestamp": 1604862695221,
     "user": {
      "displayName": "amine Hamaoui",
      "photoUrl": "https://lh3.googleusercontent.com/a-/AOh14GjnGd2NFydSYtUtop3u3ZL437mKSeU25fe7Vz5lYg=s64",
      "userId": "05907889469986217306"
     },
     "user_tz": -60
    },
    "id": "4dpr5fKP5_W3",
    "outputId": "481f58fe-ed66-4f6d-8993-f4d40180df8d"
   },
   "outputs": [
    {
     "name": "stdout",
     "output_type": "stream",
     "text": [
      "<class 'pandas.core.frame.DataFrame'>\n",
      "RangeIndex: 218 entries, 0 to 217\n",
      "Data columns (total 19 columns):\n",
      " #   Column               Non-Null Count  Dtype  \n",
      "---  ------               --------------  -----  \n",
      " 0   #                    218 non-null    int64  \n",
      " 1   Country              218 non-null    object \n",
      " 2   Total Cases          218 non-null    int64  \n",
      " 3   New Cases            108 non-null    float64\n",
      " 4   Total Deaths         193 non-null    float64\n",
      " 5   New Deaths           80 non-null     float64\n",
      " 6   Total Recovered      212 non-null    float64\n",
      " 7   New Recovered        90 non-null     float64\n",
      " 8   Active Cases         214 non-null    float64\n",
      " 9   Serious,Critical     137 non-null    float64\n",
      " 10  Tot cases/1M pop     216 non-null    float64\n",
      " 11  Deaths/1M pop        191 non-null    float64\n",
      " 12  Total Tests          198 non-null    float64\n",
      " 13  Test/1M pop          198 non-null    float64\n",
      " 14  Population           216 non-null    float64\n",
      " 15  Region               216 non-null    object \n",
      " 16  1 Case every X ppl   216 non-null    float64\n",
      " 17  1 Death every X ppl  191 non-null    float64\n",
      " 18  1 Test every X ppl   198 non-null    float64\n",
      "dtypes: float64(15), int64(2), object(2)\n",
      "memory usage: 32.5+ KB\n"
     ]
    }
   ],
   "source": [
    "df_covid_new = pd.read_csv(covid19.csv')\n",
    "df_covid_new.info()"
   ]
  },
  {
   "cell_type": "code",
   "execution_count": 17,
   "metadata": {
    "colab": {
     "base_uri": "https://localhost:8080/"
    },
    "executionInfo": {
     "elapsed": 886,
     "status": "ok",
     "timestamp": 1604862751296,
     "user": {
      "displayName": "amine Hamaoui",
      "photoUrl": "https://lh3.googleusercontent.com/a-/AOh14GjnGd2NFydSYtUtop3u3ZL437mKSeU25fe7Vz5lYg=s64",
      "userId": "05907889469986217306"
     },
     "user_tz": -60
    },
    "id": "FfQ8oQSr8bUR",
    "outputId": "24d1e0bf-29a4-4cdd-d49f-cb0da2a4fc6e"
   },
   "outputs": [
    {
     "data": {
      "text/plain": [
       "0      3.316904e+08\n",
       "1      1.384790e+09\n",
       "2      2.130940e+08\n",
       "3      6.532490e+07\n",
       "4      1.459568e+08\n",
       "           ...     \n",
       "213             NaN\n",
       "214    1.505000e+04\n",
       "215    5.933100e+04\n",
       "216    1.116700e+04\n",
       "217    1.439324e+09\n",
       "Name: Population, Length: 218, dtype: float64"
      ]
     },
     "execution_count": 17,
     "metadata": {
      "tags": []
     },
     "output_type": "execute_result"
    }
   ],
   "source": [
    "df_covid_new[\"Population\"]"
   ]
  },
  {
   "cell_type": "code",
   "execution_count": 20,
   "metadata": {
    "colab": {
     "base_uri": "https://localhost:8080/",
     "height": 351
    },
    "executionInfo": {
     "elapsed": 1026,
     "status": "ok",
     "timestamp": 1604862821032,
     "user": {
      "displayName": "amine Hamaoui",
      "photoUrl": "https://lh3.googleusercontent.com/a-/AOh14GjnGd2NFydSYtUtop3u3ZL437mKSeU25fe7Vz5lYg=s64",
      "userId": "05907889469986217306"
     },
     "user_tz": -60
    },
    "id": "yTNY3S8-8n9Z",
    "outputId": "86d0e186-1225-4e71-bbb7-25981294ff7a"
   },
   "outputs": [
    {
     "data": {
      "text/html": [
       "<div>\n",
       "<style scoped>\n",
       "    .dataframe tbody tr th:only-of-type {\n",
       "        vertical-align: middle;\n",
       "    }\n",
       "\n",
       "    .dataframe tbody tr th {\n",
       "        vertical-align: top;\n",
       "    }\n",
       "\n",
       "    .dataframe thead th {\n",
       "        text-align: right;\n",
       "    }\n",
       "</style>\n",
       "<table border=\"1\" class=\"dataframe\">\n",
       "  <thead>\n",
       "    <tr style=\"text-align: right;\">\n",
       "      <th></th>\n",
       "      <th>#</th>\n",
       "      <th>Total Cases</th>\n",
       "      <th>New Cases</th>\n",
       "      <th>Total Deaths</th>\n",
       "      <th>New Deaths</th>\n",
       "      <th>Total Recovered</th>\n",
       "      <th>New Recovered</th>\n",
       "      <th>Active Cases</th>\n",
       "      <th>Serious,Critical</th>\n",
       "      <th>Tot cases/1M pop</th>\n",
       "      <th>Deaths/1M pop</th>\n",
       "      <th>Total Tests</th>\n",
       "      <th>Test/1M pop</th>\n",
       "      <th>Population</th>\n",
       "      <th>1 Case every X ppl</th>\n",
       "      <th>1 Death every X ppl</th>\n",
       "      <th>1 Test every X ppl</th>\n",
       "    </tr>\n",
       "  </thead>\n",
       "  <tbody>\n",
       "    <tr>\n",
       "      <th>count</th>\n",
       "      <td>218.000000</td>\n",
       "      <td>2.180000e+02</td>\n",
       "      <td>108.000000</td>\n",
       "      <td>193.000000</td>\n",
       "      <td>80.00000</td>\n",
       "      <td>2.120000e+02</td>\n",
       "      <td>90.000000</td>\n",
       "      <td>2.140000e+02</td>\n",
       "      <td>137.000000</td>\n",
       "      <td>216.000000</td>\n",
       "      <td>191.000000</td>\n",
       "      <td>1.980000e+02</td>\n",
       "      <td>1.980000e+02</td>\n",
       "      <td>2.160000e+02</td>\n",
       "      <td>216.000000</td>\n",
       "      <td>1.910000e+02</td>\n",
       "      <td>198.000000</td>\n",
       "    </tr>\n",
       "    <tr>\n",
       "      <th>mean</th>\n",
       "      <td>109.500000</td>\n",
       "      <td>2.321666e+05</td>\n",
       "      <td>3377.527778</td>\n",
       "      <td>6530.031088</td>\n",
       "      <td>58.23750</td>\n",
       "      <td>1.661720e+05</td>\n",
       "      <td>1927.433333</td>\n",
       "      <td>5.181540e+04</td>\n",
       "      <td>674.299270</td>\n",
       "      <td>9259.226852</td>\n",
       "      <td>179.553822</td>\n",
       "      <td>4.377905e+06</td>\n",
       "      <td>2.195099e+05</td>\n",
       "      <td>3.604447e+07</td>\n",
       "      <td>5385.203704</td>\n",
       "      <td>1.757598e+05</td>\n",
       "      <td>88.207071</td>\n",
       "    </tr>\n",
       "    <tr>\n",
       "      <th>std</th>\n",
       "      <td>63.075352</td>\n",
       "      <td>1.002038e+06</td>\n",
       "      <td>8051.843272</td>\n",
       "      <td>24776.571935</td>\n",
       "      <td>107.61526</td>\n",
       "      <td>7.911389e+05</td>\n",
       "      <td>5457.011163</td>\n",
       "      <td>2.743570e+05</td>\n",
       "      <td>2042.536976</td>\n",
       "      <td>11633.459844</td>\n",
       "      <td>242.354644</td>\n",
       "      <td>1.870322e+07</td>\n",
       "      <td>3.952245e+05</td>\n",
       "      <td>1.408978e+08</td>\n",
       "      <td>24365.492223</td>\n",
       "      <td>9.498229e+05</td>\n",
       "      <td>456.399507</td>\n",
       "    </tr>\n",
       "    <tr>\n",
       "      <th>min</th>\n",
       "      <td>1.000000</td>\n",
       "      <td>1.000000e+00</td>\n",
       "      <td>1.000000</td>\n",
       "      <td>1.000000</td>\n",
       "      <td>1.00000</td>\n",
       "      <td>1.000000e+00</td>\n",
       "      <td>1.000000</td>\n",
       "      <td>0.000000e+00</td>\n",
       "      <td>1.000000</td>\n",
       "      <td>3.000000</td>\n",
       "      <td>0.080000</td>\n",
       "      <td>1.150000e+02</td>\n",
       "      <td>1.660000e+02</td>\n",
       "      <td>8.020000e+02</td>\n",
       "      <td>15.000000</td>\n",
       "      <td>8.080000e+02</td>\n",
       "      <td>0.000000</td>\n",
       "    </tr>\n",
       "    <tr>\n",
       "      <th>25%</th>\n",
       "      <td>55.250000</td>\n",
       "      <td>1.292000e+03</td>\n",
       "      <td>73.500000</td>\n",
       "      <td>60.000000</td>\n",
       "      <td>3.00000</td>\n",
       "      <td>1.058500e+03</td>\n",
       "      <td>56.500000</td>\n",
       "      <td>8.225000e+01</td>\n",
       "      <td>7.000000</td>\n",
       "      <td>680.250000</td>\n",
       "      <td>16.500000</td>\n",
       "      <td>4.905475e+04</td>\n",
       "      <td>2.718025e+04</td>\n",
       "      <td>7.541302e+05</td>\n",
       "      <td>71.500000</td>\n",
       "      <td>4.275500e+03</td>\n",
       "      <td>4.000000</td>\n",
       "    </tr>\n",
       "    <tr>\n",
       "      <th>50%</th>\n",
       "      <td>109.500000</td>\n",
       "      <td>1.176800e+04</td>\n",
       "      <td>620.000000</td>\n",
       "      <td>313.000000</td>\n",
       "      <td>15.00000</td>\n",
       "      <td>8.140000e+03</td>\n",
       "      <td>480.000000</td>\n",
       "      <td>1.567500e+03</td>\n",
       "      <td>39.000000</td>\n",
       "      <td>4636.500000</td>\n",
       "      <td>75.000000</td>\n",
       "      <td>3.421655e+05</td>\n",
       "      <td>9.603950e+04</td>\n",
       "      <td>6.733388e+06</td>\n",
       "      <td>216.000000</td>\n",
       "      <td>1.327100e+04</td>\n",
       "      <td>10.000000</td>\n",
       "    </tr>\n",
       "    <tr>\n",
       "      <th>75%</th>\n",
       "      <td>163.750000</td>\n",
       "      <td>9.994950e+04</td>\n",
       "      <td>2241.750000</td>\n",
       "      <td>1812.000000</td>\n",
       "      <td>45.00000</td>\n",
       "      <td>5.979550e+04</td>\n",
       "      <td>1572.500000</td>\n",
       "      <td>1.727250e+04</td>\n",
       "      <td>316.000000</td>\n",
       "      <td>13949.500000</td>\n",
       "      <td>234.000000</td>\n",
       "      <td>1.912141e+06</td>\n",
       "      <td>2.378622e+05</td>\n",
       "      <td>2.478009e+07</td>\n",
       "      <td>1469.500000</td>\n",
       "      <td>6.133600e+04</td>\n",
       "      <td>36.750000</td>\n",
       "    </tr>\n",
       "    <tr>\n",
       "      <th>max</th>\n",
       "      <td>218.000000</td>\n",
       "      <td>1.021956e+07</td>\n",
       "      <td>46418.000000</td>\n",
       "      <td>243431.000000</td>\n",
       "      <td>485.00000</td>\n",
       "      <td>7.915288e+06</td>\n",
       "      <td>47997.000000</td>\n",
       "      <td>3.525096e+06</td>\n",
       "      <td>18401.000000</td>\n",
       "      <td>68802.000000</td>\n",
       "      <td>1237.000000</td>\n",
       "      <td>1.600000e+08</td>\n",
       "      <td>3.222813e+06</td>\n",
       "      <td>1.439324e+09</td>\n",
       "      <td>304691.000000</td>\n",
       "      <td>1.201259e+07</td>\n",
       "      <td>6024.000000</td>\n",
       "    </tr>\n",
       "  </tbody>\n",
       "</table>\n",
       "</div>"
      ],
      "text/plain": [
       "                #   Total Cases  ...  1 Death every X ppl  1 Test every X ppl\n",
       "count  218.000000  2.180000e+02  ...         1.910000e+02          198.000000\n",
       "mean   109.500000  2.321666e+05  ...         1.757598e+05           88.207071\n",
       "std     63.075352  1.002038e+06  ...         9.498229e+05          456.399507\n",
       "min      1.000000  1.000000e+00  ...         8.080000e+02            0.000000\n",
       "25%     55.250000  1.292000e+03  ...         4.275500e+03            4.000000\n",
       "50%    109.500000  1.176800e+04  ...         1.327100e+04           10.000000\n",
       "75%    163.750000  9.994950e+04  ...         6.133600e+04           36.750000\n",
       "max    218.000000  1.021956e+07  ...         1.201259e+07         6024.000000\n",
       "\n",
       "[8 rows x 17 columns]"
      ]
     },
     "execution_count": 20,
     "metadata": {
      "tags": []
     },
     "output_type": "execute_result"
    }
   ],
   "source": [
    "df_covid_new.describe()"
   ]
  },
  {
   "cell_type": "code",
   "execution_count": 59,
   "metadata": {
    "colab": {
     "base_uri": "https://localhost:8080/",
     "height": 53
    },
    "executionInfo": {
     "elapsed": 2401,
     "status": "ok",
     "timestamp": 1604882460421,
     "user": {
      "displayName": "amine Hamaoui",
      "photoUrl": "https://lh3.googleusercontent.com/a-/AOh14GjnGd2NFydSYtUtop3u3ZL437mKSeU25fe7Vz5lYg=s64",
      "userId": "05907889469986217306"
     },
     "user_tz": -60
    },
    "id": "QcAMNP3BRp6i",
    "outputId": "96a67d0e-100c-450d-8386-36d601b99517"
   },
   "outputs": [
    {
     "name": "stdout",
     "output_type": "stream",
     "text": [
      "------------------------------------------------------------------------------> The mean of the new cases is 3377.527777777778\n"
     ]
    },
    {
     "data": {
      "text/plain": [
       "<Figure size 6480x2880 with 0 Axes>"
      ]
     },
     "metadata": {
      "tags": []
     },
     "output_type": "display_data"
    }
   ],
   "source": [
    "import matplotlib.pyplot as plt\n",
    "import seaborn as sns\n",
    "%matplotlib inline\n",
    "plt.figure(figsize=(90,40))\n",
    "sns.set_theme(style=\"whitegrid\")\n",
    "print('------------------------------------------------------------------------------> The mean of the new cases is : {0}'.format(df_covid_new[\"New Cases\"].mean()))\n",
    "df = df_covid_new[df_covid_new['New Cases']>df_covid_new['New Cases'].mean()].count()\n",
    "# sns.barplot(y='Country',x='New Cases',data=df)\n",
    "\n"
   ]
  },
  {
   "cell_type": "code",
   "execution_count": null,
   "metadata": {
    "id": "2WoxbjvcgNLG"
   },
   "outputs": [],
   "source": []
  }
 ],
 "metadata": {
  "colab": {
   "collapsed_sections": [],
   "name": "Covid-19_project.ipynb",
   "provenance": []
  },
  "kernelspec": {
   "display_name": "Python 3",
   "language": "python",
   "name": "python3"
  },
  "language_info": {
   "codemirror_mode": {
    "name": "ipython",
    "version": 3
   },
   "file_extension": ".py",
   "mimetype": "text/x-python",
   "name": "python",
   "nbconvert_exporter": "python",
   "pygments_lexer": "ipython3",
   "version": "3.7.3"
  }
 },
 "nbformat": 4,
 "nbformat_minor": 1
}
